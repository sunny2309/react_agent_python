{
 "cells": [
  {
   "cell_type": "markdown",
   "id": "1c0d3ebe",
   "metadata": {},
   "source": [
    "# ReAct Agent using Pure Python\n",
    "\n",
    "<img src=\"react.png\" width=400/>\n",
    "\n",
    "### Table of Contents\n",
    "\n",
    "1. **Load LLM**\n",
    "2. **Define Tools**\n",
    "3. **Define ReAct Prompt**\n",
    "4. **Define Agent Class**\n",
    "5. **Write Loop to Call Agent with Action Results**\n"
   ]
  },
  {
   "cell_type": "code",
   "execution_count": 1,
   "id": "cf899a40",
   "metadata": {},
   "outputs": [
    {
     "name": "stdout",
     "output_type": "stream",
     "text": [
      "0.9.0\n"
     ]
    }
   ],
   "source": [
    "import groq\n",
    "\n",
    "print(groq.__version__)"
   ]
  },
  {
   "cell_type": "code",
   "execution_count": 2,
   "id": "d56a17ce",
   "metadata": {},
   "outputs": [],
   "source": [
    "from dotenv import find_dotenv, load_dotenv\n",
    "import os\n",
    "\n",
    "load_dotenv(find_dotenv())\n",
    "\n",
    "groq_api_key = os.environ[\"GROQ_API_KEY\"]"
   ]
  },
  {
   "cell_type": "markdown",
   "id": "9ac1191f",
   "metadata": {},
   "source": [
    "## 1. Load LLM\n",
    "\n",
    "* Login to **https://console.groq.com** and create API Key.\n",
    "\n",
    "### Groq Models\n",
    "\n",
    "<img src=\"GroqModels.jpg\" width=800/>\n",
    "\n",
    "* **pip install groq**"
   ]
  },
  {
   "cell_type": "code",
   "execution_count": 3,
   "id": "5fdef7bf",
   "metadata": {},
   "outputs": [
    {
     "name": "stdout",
     "output_type": "stream",
     "text": [
      "Hello! I'm just a language model, so I don't have feelings or emotions like humans do, but I'm functioning properly and ready to help you. How about you? How's your day going? Is there something I can help you with or would you like to chat?\n"
     ]
    }
   ],
   "source": [
    "from groq import Groq\n",
    "\n",
    "client = Groq(api_key=groq_api_key)\n",
    "\n",
    "chat_completion = client.chat.completions.create(\n",
    "    messages=[\n",
    "        {\n",
    "            \"role\": \"user\",\n",
    "            \"content\": \"Hello, How are you?\",\n",
    "        }\n",
    "    ],\n",
    "    model=\"llama-3.1-70b-versatile\", # llama3-70b-8192\n",
    ")\n",
    "\n",
    "print(chat_completion.choices[0].message.content)"
   ]
  },
  {
   "cell_type": "markdown",
   "id": "c39b1c69",
   "metadata": {},
   "source": [
    "## 2. Define Tools\n",
    "\n",
    "* **pip install yfinance**"
   ]
  },
  {
   "cell_type": "code",
   "execution_count": 4,
   "id": "112dee82",
   "metadata": {},
   "outputs": [],
   "source": [
    "import yfinance as yf\n",
    "\n",
    "def company_address(ticker: str)-> str:\n",
    "    \"\"\"\n",
    "    Returns company address for input ticker.    \n",
    "    e.g. company_address: AAPL\n",
    "    Returns company address for ticker AAPL which is stock ticker for Apple Inc.\n",
    "    \"\"\"\n",
    "    ticker_obj = yf.Ticker(ticker)\n",
    "    info = ticker_obj.get_info()\n",
    "    \n",
    "    return \" \".join([info[key] for key in [\"address1\", \"city\", \"state\", \"zip\", \"country\"]])\n",
    "\n",
    "def fulltime_employees(ticker: str)-> int:\n",
    "    \"\"\"\n",
    "    Returns fulltime employees count for input ticker.\n",
    "    e.g. fulltime_employees: MSFT\n",
    "    Returns fulltime employees count for ticker MSFT which is stock ticker for Microsoft.\n",
    "    \"\"\"\n",
    "    ticker_obj = yf.Ticker(ticker)\n",
    "    info = ticker_obj.get_info()\n",
    "    \n",
    "    return info[\"fullTimeEmployees\"]\n",
    "\n",
    "def last_close_price(ticker: str)-> float:\n",
    "    \"\"\"\n",
    "    Returns last close price for input ticker.\n",
    "    e.g. last_close_price: MSFT\n",
    "    Returns latest close price for ticker MSFT which is stock ticker for Microsoft.\n",
    "    \"\"\"\n",
    "    ticker_obj = yf.Ticker(ticker)\n",
    "    info = ticker_obj.get_info()\n",
    "    \n",
    "    return info[\"previousClose\"]\n",
    "\n",
    "def EBITDA(ticker: str)-> float:\n",
    "    \"\"\"\n",
    "    Returns EBITDA for input ticker.\n",
    "    e.g. EBITDA: AAPL\n",
    "    Returns EBITDA for ticker AAPL which is stock ticker for Apple.\n",
    "    \"\"\"\n",
    "    ticker_obj = yf.Ticker(ticker)\n",
    "    info = ticker_obj.get_info()\n",
    "    \n",
    "    return info[\"ebitda\"]\n",
    "\n",
    "def total_debt(ticker: str)-> float:\n",
    "    \"\"\"\n",
    "    Returns total debt for input ticker.\n",
    "    e.g. total_debt: AAPL\n",
    "    Returns total debt for ticker AAPL which is stock ticker for Apple.\n",
    "    \"\"\"\n",
    "    ticker_obj = yf.Ticker(ticker)\n",
    "    info = ticker_obj.get_info()\n",
    "    \n",
    "    return info[\"totalDebt\"]\n",
    "\n",
    "def total_revenue(ticker: str)-> float:\n",
    "    \"\"\"\n",
    "    Returns total revenue for input ticker.\n",
    "    e.g. total_revenue: MSFT\n",
    "    Returns total revenue for ticker MSFT which is stock ticker for Microsoft.\n",
    "    \"\"\"\n",
    "    ticker_obj = yf.Ticker(ticker)\n",
    "    info = ticker_obj.get_info()\n",
    "    \n",
    "    return info[\"totalRevenue\"]\n",
    "\n",
    "def debt_to_equity_ratio(ticker: str)-> float:\n",
    "    \"\"\"\n",
    "    Returns debt to equity ratio for input ticker.\n",
    "    e.g. debt_to_equity_ratio: AAPL\n",
    "    Returns debt to equity ratio for ticker AAPL which is stock ticker for Apple.\n",
    "    \"\"\"\n",
    "    ticker_obj = yf.Ticker(ticker)\n",
    "    info = ticker_obj.get_info()\n",
    "    \n",
    "    return info[\"debtToEquity\"]\n",
    "\n",
    "tools = [company_address, fulltime_employees, last_close_price, EBITDA, total_debt, total_revenue, debt_to_equity_ratio]"
   ]
  },
  {
   "cell_type": "code",
   "execution_count": 5,
   "id": "d6753226",
   "metadata": {},
   "outputs": [
    {
     "name": "stdout",
     "output_type": "stream",
     "text": [
      "company_address\n",
      "    Returns company address for input ticker.    \n",
      "    e.g. company_address: AAPL\n",
      "    Returns company address for ticker AAPL which is stock ticker for Apple Inc.\n",
      "    \n",
      "\n",
      "fulltime_employees\n",
      "    Returns fulltime employees count for input ticker.\n",
      "    e.g. fulltime_employees: MSFT\n",
      "    Returns fulltime employees count for ticker MSFT which is stock ticker for Microsoft.\n",
      "    \n",
      "\n",
      "last_close_price\n",
      "    Returns last close price for input ticker.\n",
      "    e.g. last_close_price: MSFT\n",
      "    Returns latest close price for ticker MSFT which is stock ticker for Microsoft.\n",
      "    \n",
      "\n",
      "EBITDA\n",
      "    Returns EBITDA for input ticker.\n",
      "    e.g. EBITDA: AAPL\n",
      "    Returns EBITDA for ticker AAPL which is stock ticker for Apple.\n",
      "    \n",
      "\n",
      "total_debt\n",
      "    Returns total debt for input ticker.\n",
      "    e.g. total_debt: AAPL\n",
      "    Returns total debt for ticker AAPL which is stock ticker for Apple.\n",
      "    \n",
      "\n",
      "total_revenue\n",
      "    Returns total revenue for input ticker.\n",
      "    e.g. total_revenue: MSFT\n",
      "    Returns total revenue for ticker MSFT which is stock ticker for Microsoft.\n",
      "    \n",
      "\n",
      "debt_to_equity_ratio\n",
      "    Returns debt to equity ratio for input ticker.\n",
      "    e.g. debt_to_equity_ratio: AAPL\n",
      "    Returns debt to equity ratio for ticker AAPL which is stock ticker for Apple.\n",
      "    \n"
     ]
    }
   ],
   "source": [
    "tools_with_desc = \"\\n\\n\".join([tool.__name__ + tool.__doc__ for tool in tools])\n",
    "\n",
    "print(tools_with_desc)"
   ]
  },
  {
   "cell_type": "markdown",
   "id": "7bbd63a3",
   "metadata": {},
   "source": [
    "## 3. Define ReAct Prompt"
   ]
  },
  {
   "cell_type": "code",
   "execution_count": 6,
   "id": "a51d8beb",
   "metadata": {},
   "outputs": [],
   "source": [
    "system_prompt = f\"\"\"\n",
    "You run in a loop of Thought, Action, PAUSE, Observation.\n",
    "At the end of the loop you output an Answer\n",
    "Use Thought to describe your thoughts about the question you have been asked.\n",
    "Use Action to run one of the actions available to you - then return PAUSE.\n",
    "Observation will be the result of running those actions.\n",
    "\n",
    "Your available actions are:\n",
    "\n",
    "{tools_with_desc}\n",
    "\n",
    "Example session:\n",
    "\n",
    "Question: What is last close price of Apple stock?\n",
    "Thought: I should retrieve last close price using last_close_price\n",
    "Action: last_close_price: AAPL\n",
    "PAUSE\n",
    "\n",
    "You will be called again with this:\n",
    "\n",
    "Observation: 223.96\n",
    "\n",
    "You then output:\n",
    "\n",
    "Answer: The last close price of Apple stock is 223.96 USD.\n",
    "\"\"\".strip()"
   ]
  },
  {
   "cell_type": "code",
   "execution_count": 7,
   "id": "4ddd7c3f",
   "metadata": {},
   "outputs": [
    {
     "name": "stdout",
     "output_type": "stream",
     "text": [
      "You run in a loop of Thought, Action, PAUSE, Observation.\n",
      "At the end of the loop you output an Answer\n",
      "Use Thought to describe your thoughts about the question you have been asked.\n",
      "Use Action to run one of the actions available to you - then return PAUSE.\n",
      "Observation will be the result of running those actions.\n",
      "\n",
      "Your available actions are:\n",
      "\n",
      "company_address\n",
      "    Returns company address for input ticker.    \n",
      "    e.g. company_address: AAPL\n",
      "    Returns company address for ticker AAPL which is stock ticker for Apple Inc.\n",
      "    \n",
      "\n",
      "fulltime_employees\n",
      "    Returns fulltime employees count for input ticker.\n",
      "    e.g. fulltime_employees: MSFT\n",
      "    Returns fulltime employees count for ticker MSFT which is stock ticker for Microsoft.\n",
      "    \n",
      "\n",
      "last_close_price\n",
      "    Returns last close price for input ticker.\n",
      "    e.g. last_close_price: MSFT\n",
      "    Returns latest close price for ticker MSFT which is stock ticker for Microsoft.\n",
      "    \n",
      "\n",
      "EBITDA\n",
      "    Returns EBITDA for input ticker.\n",
      "    e.g. EBITDA: AAPL\n",
      "    Returns EBITDA for ticker AAPL which is stock ticker for Apple.\n",
      "    \n",
      "\n",
      "total_debt\n",
      "    Returns total debt for input ticker.\n",
      "    e.g. total_debt: AAPL\n",
      "    Returns total debt for ticker AAPL which is stock ticker for Apple.\n",
      "    \n",
      "\n",
      "total_revenue\n",
      "    Returns total revenue for input ticker.\n",
      "    e.g. total_revenue: MSFT\n",
      "    Returns total revenue for ticker MSFT which is stock ticker for Microsoft.\n",
      "    \n",
      "\n",
      "debt_to_equity_ratio\n",
      "    Returns debt to equity ratio for input ticker.\n",
      "    e.g. debt_to_equity_ratio: AAPL\n",
      "    Returns debt to equity ratio for ticker AAPL which is stock ticker for Apple.\n",
      "    \n",
      "\n",
      "Example session:\n",
      "\n",
      "Question: What is last close price of Apple stock?\n",
      "Thought: I should retrieve last close price using last_close_price\n",
      "Action: last_close_price: AAPL\n",
      "PAUSE\n",
      "\n",
      "You will be called again with this:\n",
      "\n",
      "Observation: 223.96\n",
      "\n",
      "You then output:\n",
      "\n",
      "Answer: The last close price of Apple stock is 223.96 USD.\n"
     ]
    }
   ],
   "source": [
    "print(system_prompt)"
   ]
  },
  {
   "cell_type": "markdown",
   "id": "727c8c58",
   "metadata": {},
   "source": [
    "## 4. Define Agent Class"
   ]
  },
  {
   "cell_type": "code",
   "execution_count": 8,
   "id": "25500c27",
   "metadata": {},
   "outputs": [],
   "source": [
    "class Agent:\n",
    "    def __init__(self, system=\"\"):\n",
    "        self.system = system\n",
    "        self.messages = [] ### Chat History\n",
    "        if self.system:\n",
    "            self.messages.append({\"role\": \"system\", \"content\": system})\n",
    "\n",
    "    def __call__(self, message):\n",
    "        self.messages.append({\"role\": \"user\", \"content\": message})\n",
    "        result = self.execute()\n",
    "        self.messages.append({\"role\": \"assistant\", \"content\": result})\n",
    "        return result\n",
    "\n",
    "    def execute(self):\n",
    "        result = client.chat.completions.create(\n",
    "            model=\"llama-3.1-70b-versatile\", #llama3-70b-8192\n",
    "            messages=self.messages,\n",
    "            temperature=0\n",
    "        )\n",
    "        return result.choices[0].message.content"
   ]
  },
  {
   "cell_type": "code",
   "execution_count": 9,
   "id": "8ca67f16",
   "metadata": {},
   "outputs": [],
   "source": [
    "react_agent = Agent(system_prompt)"
   ]
  },
  {
   "cell_type": "code",
   "execution_count": 10,
   "id": "cbeba08e",
   "metadata": {},
   "outputs": [
    {
     "name": "stdout",
     "output_type": "stream",
     "text": [
      "Thought: I should retrieve EBITDA using EBITDA action.\n",
      "\n",
      "Action: EBITDA: NVDA\n",
      "PAUSE\n"
     ]
    }
   ],
   "source": [
    "result = react_agent(\"What is EBITDA of nvidia?\")\n",
    "\n",
    "print(result)"
   ]
  },
  {
   "cell_type": "code",
   "execution_count": 11,
   "id": "019ddd3e",
   "metadata": {},
   "outputs": [
    {
     "data": {
      "text/plain": [
       "49274998784"
      ]
     },
     "execution_count": 11,
     "metadata": {},
     "output_type": "execute_result"
    }
   ],
   "source": [
    "tool_result = EBITDA(\"NVDA\")\n",
    "\n",
    "tool_result"
   ]
  },
  {
   "cell_type": "code",
   "execution_count": 12,
   "id": "acbb5e4b",
   "metadata": {},
   "outputs": [
    {
     "data": {
      "text/plain": [
       "'Observation: 49274998784'"
      ]
     },
     "execution_count": 12,
     "metadata": {},
     "output_type": "execute_result"
    }
   ],
   "source": [
    "next_prompt = \"Observation: {}\".format(tool_result)\n",
    "\n",
    "next_prompt"
   ]
  },
  {
   "cell_type": "code",
   "execution_count": 13,
   "id": "c0728521",
   "metadata": {},
   "outputs": [
    {
     "data": {
      "text/plain": [
       "'Answer: The EBITDA of NVIDIA is 49.275 billion USD.'"
      ]
     },
     "execution_count": 13,
     "metadata": {},
     "output_type": "execute_result"
    }
   ],
   "source": [
    "react_agent(next_prompt)"
   ]
  },
  {
   "cell_type": "code",
   "execution_count": 14,
   "id": "d6ec3f32",
   "metadata": {},
   "outputs": [
    {
     "name": "stdout",
     "output_type": "stream",
     "text": [
      "Thought: I should retrieve EBITDA and debt-to-equity ratio using EBITDA and debt_to_equity_ratio actions.\n",
      "\n",
      "Action: EBITDA: GOOGL\n",
      "PAUSE\n"
     ]
    }
   ],
   "source": [
    "result = react_agent(\"What is EBITDA and debt-to-equity ratio of Google?\")\n",
    "\n",
    "print(result)"
   ]
  },
  {
   "cell_type": "code",
   "execution_count": 15,
   "id": "2be6555b",
   "metadata": {
    "scrolled": true
   },
   "outputs": [
    {
     "name": "stdout",
     "output_type": "stream",
     "text": [
      "Thought: I have the EBITDA, now I need the debt-to-equity ratio.\n",
      "\n",
      "Action: debt_to_equity_ratio: GOOGL\n",
      "PAUSE\n"
     ]
    }
   ],
   "source": [
    "tool_result = EBITDA(\"GOOGL\")\n",
    "next_prompt = \"Observation: {}\".format(tool_result)\n",
    "result = react_agent(next_prompt)\n",
    "\n",
    "print(result)"
   ]
  },
  {
   "cell_type": "code",
   "execution_count": 16,
   "id": "62ab9943",
   "metadata": {},
   "outputs": [
    {
     "name": "stdout",
     "output_type": "stream",
     "text": [
      "Answer: The EBITDA of Google is 115.478 billion USD and the debt-to-equity ratio is 8.295.\n"
     ]
    }
   ],
   "source": [
    "tool_result = debt_to_equity_ratio(\"GOOGL\")\n",
    "next_prompt = \"Observation: {}\".format(tool_result)\n",
    "result = react_agent(next_prompt)\n",
    "\n",
    "print(result)"
   ]
  },
  {
   "cell_type": "code",
   "execution_count": 17,
   "id": "7267adff",
   "metadata": {},
   "outputs": [
    {
     "name": "stdout",
     "output_type": "stream",
     "text": [
      "Thought: I should retrieve total revenue of Apple and Nvidia using total_revenue action.\n",
      "\n",
      "Action: total_revenue: AAPL\n",
      "PAUSE\n"
     ]
    }
   ],
   "source": [
    "result = react_agent(\"Compare total revenue of Apple and Nvidia.\")\n",
    "\n",
    "print(result)"
   ]
  },
  {
   "cell_type": "code",
   "execution_count": 18,
   "id": "36a6b903",
   "metadata": {
    "scrolled": false
   },
   "outputs": [
    {
     "name": "stdout",
     "output_type": "stream",
     "text": [
      "Thought: I have the total revenue of Apple, now I need the total revenue of Nvidia.\n",
      "\n",
      "Action: total_revenue: NVDA\n",
      "PAUSE\n"
     ]
    }
   ],
   "source": [
    "tool_result = total_revenue(\"AAPL\")\n",
    "next_prompt = \"Observation: {}\".format(tool_result)\n",
    "result = react_agent(next_prompt)\n",
    "\n",
    "print(result)"
   ]
  },
  {
   "cell_type": "code",
   "execution_count": 19,
   "id": "07f9a26d",
   "metadata": {},
   "outputs": [
    {
     "name": "stdout",
     "output_type": "stream",
     "text": [
      "Answer: The total revenue of Apple is 381.623 billion USD and the total revenue of Nvidia is 79.774 billion USD.\n"
     ]
    }
   ],
   "source": [
    "tool_result = total_revenue(\"NVDA\")\n",
    "next_prompt = \"Observation: {}\".format(tool_result)\n",
    "result = react_agent(next_prompt)\n",
    "\n",
    "print(result)"
   ]
  },
  {
   "cell_type": "code",
   "execution_count": 20,
   "id": "bf43e206",
   "metadata": {
    "scrolled": true
   },
   "outputs": [
    {
     "data": {
      "text/plain": [
       "(79.773999104, 381.62300928)"
      ]
     },
     "execution_count": 20,
     "metadata": {},
     "output_type": "execute_result"
    }
   ],
   "source": [
    "total_revenue(\"NVDA\") / 1e9, total_revenue(\"AAPL\") / 1e9"
   ]
  },
  {
   "cell_type": "markdown",
   "id": "fdbd1199",
   "metadata": {},
   "source": [
    "## 5. Write Loop to Call Agent with Action Results"
   ]
  },
  {
   "cell_type": "code",
   "execution_count": 21,
   "id": "ac0560a8",
   "metadata": {},
   "outputs": [
    {
     "data": {
      "text/plain": [
       "{'company_address': <function __main__.company_address(ticker: str) -> str>,\n",
       " 'fulltime_employees': <function __main__.fulltime_employees(ticker: str) -> int>,\n",
       " 'last_close_price': <function __main__.last_close_price(ticker: str) -> float>,\n",
       " 'EBITDA': <function __main__.EBITDA(ticker: str) -> float>,\n",
       " 'total_debt': <function __main__.total_debt(ticker: str) -> float>,\n",
       " 'total_revenue': <function __main__.total_revenue(ticker: str) -> float>,\n",
       " 'debt_to_equity_ratio': <function __main__.debt_to_equity_ratio(ticker: str) -> float>}"
      ]
     },
     "execution_count": 21,
     "metadata": {},
     "output_type": "execute_result"
    }
   ],
   "source": [
    "known_actions = dict([(tool.__name__, tool) for tool in tools])\n",
    "\n",
    "known_actions"
   ]
  },
  {
   "cell_type": "code",
   "execution_count": 22,
   "id": "0f1e0d66",
   "metadata": {},
   "outputs": [],
   "source": [
    "import re\n",
    "\n",
    "action_re = re.compile('^Action: (\\w+): (.*)$')   # python regular expression to selection action\n",
    "\n",
    "def query(question, max_turns=5):\n",
    "    i = 0\n",
    "    react_agent = Agent(system_prompt)\n",
    "    next_prompt = question\n",
    "    while i < max_turns:\n",
    "        i += 1\n",
    "        result = react_agent(next_prompt)\n",
    "        print(result)\n",
    "        actions = [action_re.match(a) for a in result.split('\\n') if action_re.match(a) ]\n",
    "        \n",
    "        if actions:\n",
    "            action, action_input = actions[0].groups()\n",
    "            if action not in known_actions:\n",
    "                raise Exception(\"Unknown action: {}: {}\".format(action, action_input))\n",
    "            print(\"=> Running {} {}\".format(action, action_input))\n",
    "            observation = known_actions[action](action_input)\n",
    "            print(\"Observation:\", observation)\n",
    "            next_prompt = \"Observation: {}\".format(observation)\n",
    "        else:\n",
    "            return"
   ]
  },
  {
   "cell_type": "code",
   "execution_count": 23,
   "id": "64c9947a",
   "metadata": {},
   "outputs": [
    {
     "name": "stdout",
     "output_type": "stream",
     "text": [
      "Thought: I need to compare the total revenue of Apple and Nvidia, so I should retrieve the total revenue for both companies using total_revenue action.\n",
      "\n",
      "Action: total_revenue: AAPL\n",
      "PAUSE\n",
      "=> Running total_revenue AAPL\n",
      "Observation: 381623009280\n",
      "Thought: I have the total revenue of Apple, now I need to get the total revenue of Nvidia.\n",
      "\n",
      "Action: total_revenue: NVDA\n",
      "PAUSE\n",
      "=> Running total_revenue NVDA\n",
      "Observation: 79773999104\n",
      "Thought: I now have the total revenue of both Apple and Nvidia, so I can compare them.\n",
      "\n",
      "Answer: The total revenue of Apple is 381623009280, and the total revenue of Nvidia is 79773999104. Apple's total revenue is significantly higher than Nvidia's.\n"
     ]
    }
   ],
   "source": [
    "query(\"Compare total revenue of Apple and Nvidia.\")"
   ]
  },
  {
   "cell_type": "code",
   "execution_count": 24,
   "id": "b6b4e763",
   "metadata": {
    "scrolled": true
   },
   "outputs": [
    {
     "name": "stdout",
     "output_type": "stream",
     "text": [
      "Thought: I should retrieve EBITDA and debt-to-equity ratio using EBITDA and debt_to_equity_ratio actions.\n",
      "\n",
      "Action: EBITDA: GOOGL\n",
      "PAUSE\n",
      "=> Running EBITDA GOOGL\n",
      "Observation: 115478003712\n",
      "Thought: I have the EBITDA, now I need to get the debt-to-equity ratio.\n",
      "\n",
      "Action: debt_to_equity_ratio: GOOGL\n",
      "PAUSE\n",
      "=> Running debt_to_equity_ratio GOOGL\n",
      "Observation: 8.295\n",
      "Thought: I have both EBITDA and debt-to-equity ratio, now I can provide the answer.\n",
      "\n",
      "Answer: The EBITDA of Google is 115478003712 and the debt-to-equity ratio is 8.295.\n"
     ]
    }
   ],
   "source": [
    "query(\"What is EBITDA and debt-to-equity ratio of Google?\")"
   ]
  },
  {
   "cell_type": "markdown",
   "id": "9861c996",
   "metadata": {},
   "source": [
    "## Summary\n",
    "\n",
    "In this video, I explained how to create **ReAct Agent** using pure **Python**. We did not use any LLM apps building frameworks like **LangChain** or **LlamaIndex**. To build agent, we used **Open Source LLM (LlaMa-3.1-70B)** available through **Groq API**."
   ]
  },
  {
   "cell_type": "code",
   "execution_count": null,
   "id": "161890d1",
   "metadata": {},
   "outputs": [],
   "source": []
  }
 ],
 "metadata": {
  "kernelspec": {
   "display_name": "Python 3 (ipykernel)",
   "language": "python",
   "name": "python3"
  },
  "language_info": {
   "codemirror_mode": {
    "name": "ipython",
    "version": 3
   },
   "file_extension": ".py",
   "mimetype": "text/x-python",
   "name": "python",
   "nbconvert_exporter": "python",
   "pygments_lexer": "ipython3",
   "version": "3.10.9"
  }
 },
 "nbformat": 4,
 "nbformat_minor": 5
}
